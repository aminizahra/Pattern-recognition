{
 "cells": [
  {
   "cell_type": "code",
   "execution_count": 1,
   "metadata": {},
   "outputs": [],
   "source": [
    "#import our library\n",
    "import copy \n",
    "import warnings\n",
    "import numpy as np \n",
    "import scipy.sparse \n",
    "import math \n",
    "import nltk\n",
    "from nltk.tokenize import RegexpTokenizer\n",
    "from sklearn import preprocessing \n",
    "from sklearn.metrics import classification_report\n",
    "from sklearn.metrics import accuracy_score\n",
    "from sklearn.model_selection import train_test_split \n",
    "from sklearn.metrics import confusion_matrix\n",
    "from sklearn.metrics import ConfusionMatrixDisplay\n",
    "from sklearn.metrics import roc_curve\n",
    "from sklearn.metrics import RocCurveDisplay\n",
    "from sklearn.metrics import precision_recall_curve\n",
    "from sklearn.metrics import PrecisionRecallDisplay\n",
    "from sklearn.metrics import make_scorer"
   ]
  },
  {
   "cell_type": "code",
   "execution_count": 2,
   "metadata": {},
   "outputs": [],
   "source": [
    "#define onehot key for our target\n",
    "def to_onehot(Y): \n",
    "    #Y = np.asmatrix(Y.shape).T\n",
    "    m = Y.shape[0] \n",
    "    OHX = scipy.sparse.csr_matrix((np.ones(m), (Y[:], np.array(range(m))))) \n",
    "    OHX = np.array(OHX.todense()).T \n",
    "    return OHX"
   ]
  },
  {
   "cell_type": "code",
   "execution_count": 3,
   "metadata": {},
   "outputs": [],
   "source": [
    "#import our 3 datasets and split randomly\n",
    "def load_data(set_type, test_size):\n",
    "    if   set_type == 'amazon':\n",
    "        dataset = np.loadtxt('amazon.txt', delimiter = '\\t', dtype='str') \n",
    "    elif set_type == 'imdb':\n",
    "        dataset = np.loadtxt('imdb.txt', delimiter = '\\t', dtype='str')\n",
    "    elif set_type == 'yelp':\n",
    "        dataset = np.loadtxt('yelp.txt', delimiter = '\\t', dtype='str')\n",
    "        \n",
    "    x = dataset[:,0]\n",
    "    y = dataset[:,1].astype(np.int)\n",
    "        \n",
    "    k = len(np.unique(y))\n",
    "\n",
    "    X_train, X_test, y_train, y_test = train_test_split(x, y, test_size=test_size, random_state=20)\n",
    "    \n",
    "    m = X_train.shape[0]\n",
    "    m_test = X_test.shape[0]\n",
    "    \n",
    "    X_train = np.asarray([xx.lower() for xx in X_train]).T\n",
    "    X_test = np.asarray([xx.lower() for xx in X_test]).T    \n",
    "    \n",
    "    return X_train, y_train, m, X_test, y_test, m_test, k"
   ]
  },
  {
   "cell_type": "code",
   "execution_count": 4,
   "metadata": {},
   "outputs": [],
   "source": [
    "#read all words in data and processing\n",
    "def get_dict(sentences):\n",
    "    tokenizer = RegexpTokenizer(r'\\w+')\n",
    "    allwords = []\n",
    "    for s in sentences:\n",
    "        allwords += tokenizer.tokenize(s)\n",
    "    words = list(set(allwords))\n",
    "    m = len(words)\n",
    "    return words, m\n",
    "\n",
    "def get_words(text):\n",
    "    tokenizer = RegexpTokenizer(r'\\w+')\n",
    "    allwords = []\n",
    "    #for s in text:\n",
    "    allwords = tokenizer.tokenize(text)\n",
    "    words = list(set(allwords))\n",
    "    m = len(words)\n",
    "    return words, m"
   ]
  },
  {
   "cell_type": "code",
   "execution_count": 5,
   "metadata": {},
   "outputs": [],
   "source": [
    "#main function\n",
    "def learn(m, n, k, dict, sentences, labels):    \n",
    "    #----------------\n",
    "    onehot_labels = to_onehot(labels)\n",
    "    #----------------\n",
    "    words_count = np.zeros((m, n))\n",
    "    for j in range(0, m):\n",
    "        for i in range(0, n):\n",
    "            s_words, s_words_n = get_words(sentences[j])\n",
    "            words_count[j, i] = s_words.count(dict[i])\n",
    "    #print('sentences[0]=',sentences[0])\n",
    "    #print('words_count[0].sum()=', words_count[0].sum())\n",
    "    #----------------\n",
    "    py = np.zeros((k, 1))\n",
    "    py[0] = onehot_labels[:,0].sum()/m\n",
    "    py[1] = onehot_labels[:,1].sum()/m\n",
    "    #print('py=', py)\n",
    "    #----------------\n",
    "    ny = np.zeros((k, 1))\n",
    "    ny[0] = words_count[onehot_labels[:,0]==1].sum()\n",
    "    ny[1] = words_count[onehot_labels[:,1]==1].sum()\n",
    "    #print('ny=', ny)\n",
    "    #----------------\n",
    "    n_dict = n\n",
    "    #print('n_dict=', n_dict)\n",
    "    #----------------\n",
    "    # Laplace smoothing\n",
    "    alpha = 1\n",
    "    #----------------\n",
    "    pxy = np.zeros((n,k))\n",
    "    nxy = np.zeros((k, 1))\n",
    "    for c in range(0, k):\n",
    "        for i in range(0, n):\n",
    "            nxy[c] = words_count[onehot_labels[:, c]==1][:, i].sum()\n",
    "            pxy[i, c] = (nxy[c] + alpha) / (ny[c] + alpha*n_dict)\n",
    "    #print('pxy=', pxy)\n",
    "    #----------------\n",
    "    return pxy, py"
   ]
  },
  {
   "cell_type": "code",
   "execution_count": 6,
   "metadata": {},
   "outputs": [],
   "source": [
    "#define our predict function\n",
    "def predict(dict, k, pxy, py, new_sentences):    \n",
    "    #----------------\n",
    "    m = len(new_sentences)    \n",
    "    #----------------\n",
    "    pyx = np.zeros((m,k))\n",
    "    for c in range(0, k):\n",
    "        for j in range(0, m):\n",
    "            words, n_words = get_words(new_sentences[j])\n",
    "            temp = 0\n",
    "            pyx[j, c] = np.log10(py[c])\n",
    "            for i in range(0, n_words):\n",
    "                if words[i] in dict:\n",
    "                    temp += np.log10(pxy[dict.index(words[i]), c])\n",
    "            pyx[j, c] += temp\n",
    "    #print(pyx)\n",
    "    #----------------\n",
    "    y_pred = np.argmax(pyx, axis=1)\n",
    "    y_score = np.max(pyx, axis=1)\n",
    "    #print('y_pred=', y_pred)\n",
    "    #----------------\n",
    "    return y_pred, y_score\n"
   ]
  },
  {
   "cell_type": "code",
   "execution_count": 7,
   "metadata": {
    "scrolled": false
   },
   "outputs": [
    {
     "name": "stdout",
     "output_type": "stream",
     "text": [
      "----------------------DataSet \"amazon\"-----------------------\n",
      "Total Train Accuracy =  0.9637046307884856\n",
      "Total Test Accuracy =  0.815\n",
      "--------------------Classification Report--------------------\n",
      "              precision    recall  f1-score   support\n",
      "\n",
      "    Negative       0.76      0.84      0.80        88\n",
      "    Positive       0.86      0.79      0.83       112\n",
      "\n",
      "    accuracy                           0.81       200\n",
      "   macro avg       0.81      0.82      0.81       200\n",
      "weighted avg       0.82      0.81      0.82       200\n",
      "\n"
     ]
    },
    {
     "ename": "NameError",
     "evalue": "name 'plt' is not defined",
     "output_type": "error",
     "traceback": [
      "\u001b[1;31m---------------------------------------------------------------------------\u001b[0m",
      "\u001b[1;31mNameError\u001b[0m                                 Traceback (most recent call last)",
      "\u001b[1;32m<ipython-input-7-db8e2d1e0f0a>\u001b[0m in \u001b[0;36m<module>\u001b[1;34m\u001b[0m\n\u001b[0;32m     34\u001b[0m \u001b[1;33m\u001b[0m\u001b[0m\n\u001b[0;32m     35\u001b[0m \u001b[1;33m\u001b[0m\u001b[0m\n\u001b[1;32m---> 36\u001b[1;33m \u001b[0mNaiveBayes\u001b[0m\u001b[1;33m(\u001b[0m\u001b[1;34m'amazon'\u001b[0m\u001b[1;33m)\u001b[0m\u001b[1;33m\u001b[0m\u001b[1;33m\u001b[0m\u001b[0m\n\u001b[0m",
      "\u001b[1;32m<ipython-input-7-db8e2d1e0f0a>\u001b[0m in \u001b[0;36mNaiveBayes\u001b[1;34m(dataset)\u001b[0m\n\u001b[0;32m     29\u001b[0m     \u001b[1;31m#prec, recall, thresholds = precision_recall_curve(labels_test, y_score_test)\u001b[0m\u001b[1;33m\u001b[0m\u001b[1;33m\u001b[0m\u001b[1;33m\u001b[0m\u001b[0m\n\u001b[0;32m     30\u001b[0m     \u001b[1;31m#pr_display = PrecisionRecallDisplay(precision=prec, recall=recall).plot(ax=ax2)\u001b[0m\u001b[1;33m\u001b[0m\u001b[1;33m\u001b[0m\u001b[1;33m\u001b[0m\u001b[0m\n\u001b[1;32m---> 31\u001b[1;33m     \u001b[0mplt\u001b[0m\u001b[1;33m.\u001b[0m\u001b[0mshow\u001b[0m\u001b[1;33m(\u001b[0m\u001b[1;33m)\u001b[0m\u001b[1;33m\u001b[0m\u001b[1;33m\u001b[0m\u001b[0m\n\u001b[0m\u001b[0;32m     32\u001b[0m     \u001b[1;31m#--------------------------------------------------------------------------#\u001b[0m\u001b[1;33m\u001b[0m\u001b[1;33m\u001b[0m\u001b[1;33m\u001b[0m\u001b[0m\n\u001b[0;32m     33\u001b[0m \u001b[1;33m\u001b[0m\u001b[0m\n",
      "\u001b[1;31mNameError\u001b[0m: name 'plt' is not defined"
     ]
    },
    {
     "data": {
      "image/png": "[encoded data removed]",
      "text/plain": [
       "<Figure size 432x288 with 2 Axes>"
      ]
     },
     "metadata": {
      "needs_background": "light"
     },
     "output_type": "display_data"
    }
   ],
   "source": [
    "#calculate and define (amazon dataset)\n",
    "def NaiveBayes(dataset):\n",
    "    #--------------------------------DataSet1----------------------------------#\n",
    "    #-----------------LoadData-----------------#    \n",
    "    sentences, labels, m, sentences_test, labels_test, m_test, k = load_data(set_type = dataset, test_size=0.2)\n",
    "    dict, n = get_dict(sentences)\n",
    "    #print('sentences[0:10]=',sentences[0:10])\n",
    "    #print('labels[0:10]=',labels[0:10])\n",
    "    #-----------------Learning-----------------#\n",
    "    pxy, py = learn(m, n, k, dict, sentences, labels)\n",
    "    #-----------------Predict------------------#\n",
    "    y_pred, y_score = predict(dict, k, pxy, py, sentences)    \n",
    "    y_pred_test, y_score_test  = predict(dict, k, pxy, py, sentences_test)\n",
    "    #print('y_pred[0:10]=',y_pred[0:10])\n",
    "    #-----------------Results------------------#\n",
    "    target_names = np.array(['Negative','Positive'])\n",
    "    total_train_accuracy = accuracy_score(labels, y_pred)\n",
    "    total_test_accuracy = accuracy_score(labels_test, y_pred_test)\n",
    "    print('----------------------DataSet \"'+dataset+'\"-----------------------')\n",
    "    print('Total Train Accuracy = ',total_train_accuracy)\n",
    "    print('Total Test Accuracy = ',total_test_accuracy)\n",
    "    print('--------------------Classification Report--------------------')\n",
    "    print(classification_report(labels_test, y_pred_test, target_names=target_names))  \n",
    "    cm_test = confusion_matrix(labels_test, y_pred_test)\n",
    "    cm_display = ConfusionMatrixDisplay(cm_test).plot()\n",
    "    #fig, (ax1, ax2) = plt.subplots(1, 2, figsize=(12, 8))\n",
    "    #fpr, tpr, thresholds = roc_curve(labels_test, y_score_test)\n",
    "    #roc_display = RocCurveDisplay(fpr=fpr, tpr=tpr).plot(ax=ax1)\n",
    "    #prec, recall, thresholds = precision_recall_curve(labels_test, y_score_test)\n",
    "    #pr_display = PrecisionRecallDisplay(precision=prec, recall=recall).plot(ax=ax2)\n",
    "    plt.show()\n",
    "    #--------------------------------------------------------------------------#\n",
    "\n",
    "    \n",
    "    \n",
    "NaiveBayes('amazon')"
   ]
  },
  {
   "cell_type": "code",
   "execution_count": 8,
   "metadata": {},
   "outputs": [
    {
     "name": "stdout",
     "output_type": "stream",
     "text": [
      "----------------------DataSet \"imdb\"-----------------------\n",
      "Total Train Accuracy =  0.9625\n",
      "Total Test Accuracy =  0.795\n",
      "--------------------Classification Report--------------------\n",
      "              precision    recall  f1-score   support\n",
      "\n",
      "    Negative       0.76      0.86      0.81       101\n",
      "    Positive       0.84      0.73      0.78        99\n",
      "\n",
      "    accuracy                           0.80       200\n",
      "   macro avg       0.80      0.79      0.79       200\n",
      "weighted avg       0.80      0.80      0.79       200\n",
      "\n"
     ]
    },
    {
     "ename": "NameError",
     "evalue": "name 'plt' is not defined",
     "output_type": "error",
     "traceback": [
      "\u001b[1;31m---------------------------------------------------------------------------\u001b[0m",
      "\u001b[1;31mNameError\u001b[0m                                 Traceback (most recent call last)",
      "\u001b[1;32m<ipython-input-8-f996d03ee94d>\u001b[0m in \u001b[0;36m<module>\u001b[1;34m\u001b[0m\n\u001b[0;32m     34\u001b[0m \u001b[1;33m\u001b[0m\u001b[0m\n\u001b[0;32m     35\u001b[0m \u001b[1;33m\u001b[0m\u001b[0m\n\u001b[1;32m---> 36\u001b[1;33m \u001b[0mNaiveBayes\u001b[0m\u001b[1;33m(\u001b[0m\u001b[1;34m'imdb'\u001b[0m\u001b[1;33m)\u001b[0m\u001b[1;33m\u001b[0m\u001b[1;33m\u001b[0m\u001b[0m\n\u001b[0m",
      "\u001b[1;32m<ipython-input-8-f996d03ee94d>\u001b[0m in \u001b[0;36mNaiveBayes\u001b[1;34m(dataset)\u001b[0m\n\u001b[0;32m     29\u001b[0m     \u001b[1;31m#prec, recall, thresholds = precision_recall_curve(labels_test, y_score_test)\u001b[0m\u001b[1;33m\u001b[0m\u001b[1;33m\u001b[0m\u001b[1;33m\u001b[0m\u001b[0m\n\u001b[0;32m     30\u001b[0m     \u001b[1;31m#pr_display = PrecisionRecallDisplay(precision=prec, recall=recall).plot(ax=ax2)\u001b[0m\u001b[1;33m\u001b[0m\u001b[1;33m\u001b[0m\u001b[1;33m\u001b[0m\u001b[0m\n\u001b[1;32m---> 31\u001b[1;33m     \u001b[0mplt\u001b[0m\u001b[1;33m.\u001b[0m\u001b[0mshow\u001b[0m\u001b[1;33m(\u001b[0m\u001b[1;33m)\u001b[0m\u001b[1;33m\u001b[0m\u001b[1;33m\u001b[0m\u001b[0m\n\u001b[0m\u001b[0;32m     32\u001b[0m     \u001b[1;31m#--------------------------------------------------------------------------#\u001b[0m\u001b[1;33m\u001b[0m\u001b[1;33m\u001b[0m\u001b[1;33m\u001b[0m\u001b[0m\n\u001b[0;32m     33\u001b[0m \u001b[1;33m\u001b[0m\u001b[0m\n",
      "\u001b[1;31mNameError\u001b[0m: name 'plt' is not defined"
     ]
    },
    {
     "data": {
      "image/png": "[encoded data removed]",
      "text/plain": [
       "<Figure size 432x288 with 2 Axes>"
      ]
     },
     "metadata": {
      "needs_background": "light"
     },
     "output_type": "display_data"
    }
   ],
   "source": [
    "#calculate and define (imdb dataset)\n",
    "def NaiveBayes(dataset):\n",
    "    #--------------------------------DataSet1----------------------------------#\n",
    "    #-----------------LoadData-----------------#    \n",
    "    sentences, labels, m, sentences_test, labels_test, m_test, k = load_data(set_type = dataset, test_size=0.2)\n",
    "    dict, n = get_dict(sentences)\n",
    "    #print('sentences[0:10]=',sentences[0:10])\n",
    "    #print('labels[0:10]=',labels[0:10])\n",
    "    #-----------------Learning-----------------#\n",
    "    pxy, py = learn(m, n, k, dict, sentences, labels)\n",
    "    #-----------------Predict------------------#\n",
    "    y_pred, y_score = predict(dict, k, pxy, py, sentences)    \n",
    "    y_pred_test, y_score_test  = predict(dict, k, pxy, py, sentences_test)\n",
    "    #print('y_pred[0:10]=',y_pred[0:10])\n",
    "    #-----------------Results------------------#\n",
    "    target_names = np.array(['Negative','Positive'])\n",
    "    total_train_accuracy = accuracy_score(labels, y_pred)\n",
    "    total_test_accuracy = accuracy_score(labels_test, y_pred_test)\n",
    "    print('----------------------DataSet \"'+dataset+'\"-----------------------')\n",
    "    print('Total Train Accuracy = ',total_train_accuracy)\n",
    "    print('Total Test Accuracy = ',total_test_accuracy)\n",
    "    print('--------------------Classification Report--------------------')\n",
    "    print(classification_report(labels_test, y_pred_test, target_names=target_names))  \n",
    "    cm_test = confusion_matrix(labels_test, y_pred_test)\n",
    "    cm_display = ConfusionMatrixDisplay(cm_test).plot()\n",
    "    #fig, (ax1, ax2) = plt.subplots(1, 2, figsize=(12, 8))\n",
    "    #fpr, tpr, thresholds = roc_curve(labels_test, y_score_test)\n",
    "    #roc_display = RocCurveDisplay(fpr=fpr, tpr=tpr).plot(ax=ax1)\n",
    "    #prec, recall, thresholds = precision_recall_curve(labels_test, y_score_test)\n",
    "    #pr_display = PrecisionRecallDisplay(precision=prec, recall=recall).plot(ax=ax2)\n",
    "    plt.show()\n",
    "    #--------------------------------------------------------------------------# \n",
    "\n",
    "    \n",
    "    \n",
    "NaiveBayes('imdb')"
   ]
  },
  {
   "cell_type": "code",
   "execution_count": 9,
   "metadata": {},
   "outputs": [
    {
     "name": "stdout",
     "output_type": "stream",
     "text": [
      "----------------------DataSet \"yelp\"-----------------------\n",
      "Total Train Accuracy =  0.94625\n",
      "Total Test Accuracy =  0.8\n",
      "--------------------Classification Report--------------------\n",
      "              precision    recall  f1-score   support\n",
      "\n",
      "    Negative       0.81      0.79      0.80       102\n",
      "    Positive       0.79      0.81      0.80        98\n",
      "\n",
      "    accuracy                           0.80       200\n",
      "   macro avg       0.80      0.80      0.80       200\n",
      "weighted avg       0.80      0.80      0.80       200\n",
      "\n"
     ]
    },
    {
     "ename": "NameError",
     "evalue": "name 'plt' is not defined",
     "output_type": "error",
     "traceback": [
      "\u001b[1;31m---------------------------------------------------------------------------\u001b[0m",
      "\u001b[1;31mNameError\u001b[0m                                 Traceback (most recent call last)",
      "\u001b[1;32m<ipython-input-9-2f883462d8cb>\u001b[0m in \u001b[0;36m<module>\u001b[1;34m\u001b[0m\n\u001b[0;32m     34\u001b[0m \u001b[1;33m\u001b[0m\u001b[0m\n\u001b[0;32m     35\u001b[0m \u001b[1;33m\u001b[0m\u001b[0m\n\u001b[1;32m---> 36\u001b[1;33m \u001b[0mNaiveBayes\u001b[0m\u001b[1;33m(\u001b[0m\u001b[1;34m'yelp'\u001b[0m\u001b[1;33m)\u001b[0m\u001b[1;33m\u001b[0m\u001b[1;33m\u001b[0m\u001b[0m\n\u001b[0m",
      "\u001b[1;32m<ipython-input-9-2f883462d8cb>\u001b[0m in \u001b[0;36mNaiveBayes\u001b[1;34m(dataset)\u001b[0m\n\u001b[0;32m     29\u001b[0m     \u001b[1;31m#prec, recall, thresholds = precision_recall_curve(labels_test, y_score_test)\u001b[0m\u001b[1;33m\u001b[0m\u001b[1;33m\u001b[0m\u001b[1;33m\u001b[0m\u001b[0m\n\u001b[0;32m     30\u001b[0m     \u001b[1;31m#pr_display = PrecisionRecallDisplay(precision=prec, recall=recall).plot(ax=ax2)\u001b[0m\u001b[1;33m\u001b[0m\u001b[1;33m\u001b[0m\u001b[1;33m\u001b[0m\u001b[0m\n\u001b[1;32m---> 31\u001b[1;33m     \u001b[0mplt\u001b[0m\u001b[1;33m.\u001b[0m\u001b[0mshow\u001b[0m\u001b[1;33m(\u001b[0m\u001b[1;33m)\u001b[0m\u001b[1;33m\u001b[0m\u001b[1;33m\u001b[0m\u001b[0m\n\u001b[0m\u001b[0;32m     32\u001b[0m     \u001b[1;31m#--------------------------------------------------------------------------#\u001b[0m\u001b[1;33m\u001b[0m\u001b[1;33m\u001b[0m\u001b[1;33m\u001b[0m\u001b[0m\n\u001b[0;32m     33\u001b[0m \u001b[1;33m\u001b[0m\u001b[0m\n",
      "\u001b[1;31mNameError\u001b[0m: name 'plt' is not defined"
     ]
    },
    {
     "data": {
      "image/png": "[encoded data removed]",
      "text/plain": [
       "<Figure size 432x288 with 2 Axes>"
      ]
     },
     "metadata": {
      "needs_background": "light"
     },
     "output_type": "display_data"
    }
   ],
   "source": [
    "#calculate and define (yelp dataset)\n",
    "def NaiveBayes(dataset):\n",
    "    #--------------------------------DataSet1----------------------------------#\n",
    "    #-----------------LoadData-----------------#    \n",
    "    sentences, labels, m, sentences_test, labels_test, m_test, k = load_data(set_type = dataset, test_size=0.2)\n",
    "    dict, n = get_dict(sentences)\n",
    "    #print('sentences[0:10]=',sentences[0:10])\n",
    "    #print('labels[0:10]=',labels[0:10])\n",
    "    #-----------------Learning-----------------#\n",
    "    pxy, py = learn(m, n, k, dict, sentences, labels)\n",
    "    #-----------------Predict------------------#\n",
    "    y_pred, y_score = predict(dict, k, pxy, py, sentences)    \n",
    "    y_pred_test, y_score_test  = predict(dict, k, pxy, py, sentences_test)\n",
    "    #print('y_pred[0:10]=',y_pred[0:10])\n",
    "    #-----------------Results------------------#\n",
    "    target_names = np.array(['Negative','Positive'])\n",
    "    total_train_accuracy = accuracy_score(labels, y_pred)\n",
    "    total_test_accuracy = accuracy_score(labels_test, y_pred_test)\n",
    "    print('----------------------DataSet \"'+dataset+'\"-----------------------')\n",
    "    print('Total Train Accuracy = ',total_train_accuracy)\n",
    "    print('Total Test Accuracy = ',total_test_accuracy)\n",
    "    print('--------------------Classification Report--------------------')\n",
    "    print(classification_report(labels_test, y_pred_test, target_names=target_names))  \n",
    "    cm_test = confusion_matrix(labels_test, y_pred_test)\n",
    "    cm_display = ConfusionMatrixDisplay(cm_test).plot()\n",
    "    #fig, (ax1, ax2) = plt.subplots(1, 2, figsize=(12, 8))\n",
    "    #fpr, tpr, thresholds = roc_curve(labels_test, y_score_test)\n",
    "    #roc_display = RocCurveDisplay(fpr=fpr, tpr=tpr).plot(ax=ax1)\n",
    "    #prec, recall, thresholds = precision_recall_curve(labels_test, y_score_test)\n",
    "    #pr_display = PrecisionRecallDisplay(precision=prec, recall=recall).plot(ax=ax2)\n",
    "    plt.show()\n",
    "    #--------------------------------------------------------------------------#\n",
    "\n",
    "    \n",
    "\n",
    "NaiveBayes('yelp')"
   ]
  }
 ],
 "metadata": {
  "kernelspec": {
   "display_name": "Python 3",
   "language": "python",
   "name": "python3"
  },
  "language_info": {
   "codemirror_mode": {
    "name": "ipython",
    "version": 3
   },
   "file_extension": ".py",
   "mimetype": "text/x-python",
   "name": "python",
   "nbconvert_exporter": "python",
   "pygments_lexer": "ipython3",
   "version": "3.8.5"
  }
 },
 "nbformat": 4,
 "nbformat_minor": 4
}
