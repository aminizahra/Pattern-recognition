{
 "cells": [
  {
   "cell_type": "code",
   "execution_count": 1,
   "metadata": {},
   "outputs": [],
   "source": [
    "#import library we need\n",
    "import numpy as np\n",
    "import pandas as pd\n",
    "import matplotlib.pyplot as plt\n",
    "%matplotlib inline"
   ]
  },
  {
   "cell_type": "code",
   "execution_count": 2,
   "metadata": {},
   "outputs": [],
   "source": [
    "#read our dataset\n",
    "train = pd.read_csv('Data-Train.csv')\n",
    "test = pd.read_csv('Data-Test.csv')"
   ]
  },
  {
   "cell_type": "code",
   "execution_count": 3,
   "metadata": {},
   "outputs": [],
   "source": [
    "#change our dataset to matrix and transpose them\n",
    "x_train = np.transpose(np.asmatrix(train['x']))\n",
    "y_train = np.transpose(np.asmatrix(train['y']))\n",
    "\n",
    "x_test = np.transpose(np.asmatrix(test['x']))\n",
    "y_test = np.transpose(np.asmatrix(test['y']))"
   ]
  },
  {
   "cell_type": "code",
   "execution_count": 4,
   "metadata": {},
   "outputs": [],
   "source": [
    "#add x0 to our data\n",
    "ones = np.ones((x_train.shape[0],1))\n",
    "x_new = np.append(ones, x_train, 1)"
   ]
  },
  {
   "cell_type": "code",
   "execution_count": 5,
   "metadata": {},
   "outputs": [],
   "source": [
    "#creat our m , n  and theta fill with 1 (2*1)\n",
    "m, n = np.shape(x_new)\n",
    "theta = np.ones((1,n))\n",
    "theta = np.transpose(theta)\n",
    "theta_new = theta"
   ]
  },
  {
   "cell_type": "code",
   "execution_count": 6,
   "metadata": {},
   "outputs": [
    {
     "name": "stdout",
     "output_type": "stream",
     "text": [
      "Number of iteration :  200\n",
      "Learning Rate :  4e-05\n",
      "Theta[0] =  [-0.07264958]\n",
      "Theta[1] =  [1.00600317]\n"
     ]
    }
   ],
   "source": [
    "#choose our iteration & Learning Rate\n",
    "\n",
    "itr= 200\n",
    "alpha = 0.00004\n",
    "\n",
    "#calculate our Gradient Descent (Stochastic)\n",
    "LSM = np.zeros((itr,2))\n",
    "d = 0\n",
    "\n",
    "while d < itr:\n",
    "    for i in range(0, m):\n",
    "        for j in range(0, n):\n",
    "            theta_new[j] = theta[j] - (alpha * ((x_new[i]*theta - y_train[i])*x_new[i, j]))\n",
    "        \n",
    "        theta = theta_new\n",
    "    \n",
    "    y_pred = theta[0] + theta[1]*x_train.T\n",
    "    \n",
    "    Loop_LSM = 0\n",
    "    for i in range(0, m):       \n",
    "        Loop_LSM += (y_train.A1[i] - y_pred.A1[i])**2        \n",
    "    Loop_LSM = Loop_LSM/(2*m)\n",
    "    LSM[d,0] = d\n",
    "    LSM[d,1] = Loop_LSM\n",
    "    \n",
    "    d += 1\n",
    "    \n",
    "print('Number of iteration : ',itr)\n",
    "print('Learning Rate : ',alpha)\n",
    "print('Theta[0] = ', theta[0])\n",
    "print('Theta[1] = ', theta[1])"
   ]
  },
  {
   "cell_type": "code",
   "execution_count": 7,
   "metadata": {},
   "outputs": [],
   "source": [
    "#calculate our h(theta) or y_predection for both data\n",
    "y_pred_train = theta[0] + theta[1]*x_train.T\n",
    "\n",
    "y_pred_test = theta[0] + theta[1]*x_test.T"
   ]
  },
  {
   "cell_type": "code",
   "execution_count": 8,
   "metadata": {},
   "outputs": [
    {
     "name": "stdout",
     "output_type": "stream",
     "text": [
      "Train Least Squared Error :  4.1856898741848125\n"
     ]
    }
   ],
   "source": [
    "#calculate our test data cost function\n",
    "train_LSM = 0\n",
    "m = y_train.shape[0]\n",
    "\n",
    "for i in range(m):\n",
    "    train_LSM += ((y_train.A1[i] - y_pred_train.A1[i])**2)\n",
    "train_LSM = train_LSM/(2*m)\n",
    "\n",
    "print(\"Train Least Squared Error : \", train_LSM)"
   ]
  },
  {
   "cell_type": "code",
   "execution_count": 9,
   "metadata": {},
   "outputs": [
    {
     "name": "stdout",
     "output_type": "stream",
     "text": [
      "Test Least Squared Error :  4.610875131374377\n"
     ]
    }
   ],
   "source": [
    "#calculate our test data cost function\n",
    "test_LSM = 0\n",
    "m = y_test.shape[0]\n",
    "\n",
    "for i in range(m):\n",
    "    test_LSM += ((y_test.A1[i] - y_pred_test.A1[i])**2)\n",
    "test_LSM = test_LSM/(2*m)\n",
    "\n",
    "print(\"Test Least Squared Error : \", test_LSM)"
   ]
  },
  {
   "cell_type": "code",
   "execution_count": 10,
   "metadata": {},
   "outputs": [
    {
     "name": "stderr",
     "output_type": "stream",
     "text": [
      "No handles with labels found to put in legend.\n"
     ]
    },
    {
     "data": {
      "image/png": "[encoded data removed]",
      "text/plain": [
       "<Figure size 432x288 with 4 Axes>"
      ]
     },
     "metadata": {
      "needs_background": "light"
     },
     "output_type": "display_data"
    }
   ],
   "source": [
    "#plot our data and Gradient\n",
    "fig, plots = plt.subplots(2,2)\n",
    "fig.suptitle(' Stochastic Gradient Descent')\n",
    "\n",
    "plots[0,0].scatter(train['x'],train['y'],color = \"green\", s = 0.1, label = 'Train data')\n",
    "plots[0,0].plot(x_train.T.A1, y_pred_train.A1, color = \"black\") \n",
    "plots[0,0].set(xlabel='X', ylabel='Y')\n",
    "plots[0,0].legend(loc = 'upper left')\n",
    "\n",
    "plots[0,1].scatter(test['x'],test['y'],color = \"red\", s = 0.1, label = 'Test data')\n",
    "plots[0,1].plot(x_train.T.A1, y_pred_train.A1, color = \"black\") \n",
    "plots[0,1].set(xlabel='X')\n",
    "plots[0,1].legend(loc = 'upper left')\n",
    "\n",
    "plots[1,0].plot(LSM.T[0], LSM.T[1], color = \"black\") \n",
    "plots[1,0].set(xlabel='Iteration', ylabel='LSM')\n",
    "plots[1,0].legend(loc = 'upper left')\n",
    "\n",
    "plt.show() "
   ]
  }
 ],
 "metadata": {
  "kernelspec": {
   "display_name": "Python 3",
   "language": "python",
   "name": "python3"
  },
  "language_info": {
   "codemirror_mode": {
    "name": "ipython",
    "version": 3
   },
   "file_extension": ".py",
   "mimetype": "text/x-python",
   "name": "python",
   "nbconvert_exporter": "python",
   "pygments_lexer": "ipython3",
   "version": "3.8.8"
  }
 },
 "nbformat": 4,
 "nbformat_minor": 4
}
